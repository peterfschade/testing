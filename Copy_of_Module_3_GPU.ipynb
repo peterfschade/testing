{
  "nbformat": 4,
  "nbformat_minor": 0,
  "metadata": {
    "colab": {
      "provenance": [],
      "include_colab_link": true
    },
    "kernelspec": {
      "name": "python3",
      "display_name": "Python 3"
    },
    "language_info": {
      "name": "python"
    }
  },
  "cells": [
    {
      "cell_type": "markdown",
      "metadata": {
        "id": "view-in-github",
        "colab_type": "text"
      },
      "source": [
        "<a href=\"https://colab.research.google.com/github/peterfschade/testing/blob/main/Copy_of_Module_3_GPU.ipynb\" target=\"_parent\"><img src=\"https://colab.research.google.com/assets/colab-badge.svg\" alt=\"Open In Colab\"/></a>"
      ]
    },
    {
      "cell_type": "markdown",
      "source": [
        "# How to run on GPU\n",
        "\n",
        "Step 1) Go to https://github.com/settings/tokens and get a token that can read your private repos\n",
        "\n",
        "Step 2) Clone this colab notebook and change the execution environment to GPU.\n",
        "\n",
        "Step 3) Install python 3.8\n",
        "\n",
        "Step 4) Clone and install your code.\n",
        "\n",
        "Step 5) Run the command-line code for training."
      ],
      "metadata": {
        "id": "z4pWhxZCyMQ-"
      }
    },
    {
      "cell_type": "markdown",
      "source": [
        "## Step 3: Install python 3.8\n",
        "Run the cell below without editing it."
      ],
      "metadata": {
        "id": "BTzMYZB5yynZ"
      }
    },
    {
      "cell_type": "code",
      "execution_count": 1,
      "metadata": {
        "id": "lciKNd6myIjl",
        "colab": {
          "base_uri": "https://localhost:8080/"
        },
        "outputId": "6ff27139-4632-4f41-d474-6d2a2e3f958d"
      },
      "outputs": [
        {
          "output_type": "stream",
          "name": "stdout",
          "text": [
            "Get:1 https://cloud.r-project.org/bin/linux/ubuntu jammy-cran40/ InRelease [3,626 B]\n",
            "Get:2 https://developer.download.nvidia.com/compute/cuda/repos/ubuntu2204/x86_64  InRelease [1,581 B]\n",
            "Hit:3 http://archive.ubuntu.com/ubuntu jammy InRelease\n",
            "Get:4 http://security.ubuntu.com/ubuntu jammy-security InRelease [129 kB]\n",
            "Get:5 http://archive.ubuntu.com/ubuntu jammy-updates InRelease [128 kB]\n",
            "Get:6 https://r2u.stat.illinois.edu/ubuntu jammy InRelease [6,555 B]\n",
            "Get:7 http://archive.ubuntu.com/ubuntu jammy-backports InRelease [127 kB]\n",
            "Get:8 https://developer.download.nvidia.com/compute/cuda/repos/ubuntu2204/x86_64  Packages [1,110 kB]\n",
            "Hit:9 https://ppa.launchpadcontent.net/deadsnakes/ppa/ubuntu jammy InRelease\n",
            "Hit:10 https://ppa.launchpadcontent.net/graphics-drivers/ppa/ubuntu jammy InRelease\n",
            "Hit:11 https://ppa.launchpadcontent.net/ubuntugis/ppa/ubuntu jammy InRelease\n",
            "Get:12 https://r2u.stat.illinois.edu/ubuntu jammy/main amd64 Packages [2,614 kB]\n",
            "Get:13 http://archive.ubuntu.com/ubuntu jammy-updates/main amd64 Packages [2,701 kB]\n",
            "Get:14 http://archive.ubuntu.com/ubuntu jammy-updates/universe amd64 Packages [1,453 kB]\n",
            "Get:15 https://r2u.stat.illinois.edu/ubuntu jammy/main all Packages [8,482 kB]\n",
            "Get:16 http://security.ubuntu.com/ubuntu jammy-security/main amd64 Packages [2,425 kB]\n",
            "Get:17 http://security.ubuntu.com/ubuntu jammy-security/universe amd64 Packages [1,164 kB]\n",
            "Fetched 20.3 MB in 6s (3,526 kB/s)\n",
            "Reading package lists... Done\n",
            "W: Skipping acquire of configured file 'main/source/Sources' as repository 'https://r2u.stat.illinois.edu/ubuntu jammy InRelease' does not seem to provide it (sources.list entry misspelt?)\n",
            "Reading package lists... Done\n",
            "Building dependency tree... Done\n",
            "Reading state information... Done\n",
            "The following additional packages will be installed:\n",
            "  libpython3.8-minimal libpython3.8-stdlib mailcap mime-support\n",
            "  python3.8-minimal\n",
            "Suggested packages:\n",
            "  python3.8-venv binfmt-support\n",
            "The following NEW packages will be installed:\n",
            "  libpython3.8-minimal libpython3.8-stdlib mailcap mime-support python3.8\n",
            "  python3.8-minimal\n",
            "0 upgraded, 6 newly installed, 0 to remove and 56 not upgraded.\n",
            "Need to get 5,103 kB of archives.\n",
            "After this operation, 18.9 MB of additional disk space will be used.\n",
            "Get:1 http://archive.ubuntu.com/ubuntu jammy/main amd64 mailcap all 3.70+nmu1ubuntu1 [23.8 kB]\n",
            "Get:2 http://archive.ubuntu.com/ubuntu jammy/main amd64 mime-support all 3.66 [3,696 B]\n",
            "Get:3 https://ppa.launchpadcontent.net/deadsnakes/ppa/ubuntu jammy/main amd64 libpython3.8-minimal amd64 3.8.20-1+jammy1 [796 kB]\n",
            "Get:4 https://ppa.launchpadcontent.net/deadsnakes/ppa/ubuntu jammy/main amd64 python3.8-minimal amd64 3.8.20-1+jammy1 [2,023 kB]\n",
            "Get:5 https://ppa.launchpadcontent.net/deadsnakes/ppa/ubuntu jammy/main amd64 libpython3.8-stdlib amd64 3.8.20-1+jammy1 [1,817 kB]\n",
            "Get:6 https://ppa.launchpadcontent.net/deadsnakes/ppa/ubuntu jammy/main amd64 python3.8 amd64 3.8.20-1+jammy1 [440 kB]\n",
            "Fetched 5,103 kB in 2s (2,593 kB/s)\n",
            "debconf: unable to initialize frontend: Dialog\n",
            "debconf: (No usable dialog-like program is installed, so the dialog based frontend cannot be used. at /usr/share/perl5/Debconf/FrontEnd/Dialog.pm line 78, <> line 6.)\n",
            "debconf: falling back to frontend: Readline\n",
            "debconf: unable to initialize frontend: Readline\n",
            "debconf: (This frontend requires a controlling tty.)\n",
            "debconf: falling back to frontend: Teletype\n",
            "dpkg-preconfigure: unable to re-open stdin: \n",
            "Selecting previously unselected package libpython3.8-minimal:amd64.\n",
            "(Reading database ... 123629 files and directories currently installed.)\n",
            "Preparing to unpack .../0-libpython3.8-minimal_3.8.20-1+jammy1_amd64.deb ...\n",
            "Unpacking libpython3.8-minimal:amd64 (3.8.20-1+jammy1) ...\n",
            "Selecting previously unselected package python3.8-minimal.\n",
            "Preparing to unpack .../1-python3.8-minimal_3.8.20-1+jammy1_amd64.deb ...\n",
            "Unpacking python3.8-minimal (3.8.20-1+jammy1) ...\n",
            "Selecting previously unselected package mailcap.\n",
            "Preparing to unpack .../2-mailcap_3.70+nmu1ubuntu1_all.deb ...\n",
            "Unpacking mailcap (3.70+nmu1ubuntu1) ...\n",
            "Selecting previously unselected package mime-support.\n",
            "Preparing to unpack .../3-mime-support_3.66_all.deb ...\n",
            "Unpacking mime-support (3.66) ...\n",
            "Selecting previously unselected package libpython3.8-stdlib:amd64.\n",
            "Preparing to unpack .../4-libpython3.8-stdlib_3.8.20-1+jammy1_amd64.deb ...\n",
            "Unpacking libpython3.8-stdlib:amd64 (3.8.20-1+jammy1) ...\n",
            "Selecting previously unselected package python3.8.\n",
            "Preparing to unpack .../5-python3.8_3.8.20-1+jammy1_amd64.deb ...\n",
            "Unpacking python3.8 (3.8.20-1+jammy1) ...\n",
            "Setting up libpython3.8-minimal:amd64 (3.8.20-1+jammy1) ...\n",
            "Setting up python3.8-minimal (3.8.20-1+jammy1) ...\n",
            "Setting up mailcap (3.70+nmu1ubuntu1) ...\n",
            "Setting up mime-support (3.66) ...\n",
            "Setting up libpython3.8-stdlib:amd64 (3.8.20-1+jammy1) ...\n",
            "Setting up python3.8 (3.8.20-1+jammy1) ...\n",
            "Processing triggers for man-db (2.10.2-1) ...\n",
            "  % Total    % Received % Xferd  Average Speed   Time    Time     Time  Current\n",
            "                                 Dload  Upload   Total   Spent    Left  Speed\n",
            "100 2222k  100 2222k    0     0  7768k      0 --:--:-- --:--:-- --:--:-- 7770k\n",
            "Traceback (most recent call last):\n",
            "  File \"get-pip.py\", line 28535, in <module>\n",
            "    main()\n",
            "  File \"get-pip.py\", line 137, in main\n",
            "    bootstrap(tmpdir=tmpdir)\n",
            "  File \"get-pip.py\", line 113, in bootstrap\n",
            "    monkeypatch_for_cert(tmpdir)\n",
            "  File \"get-pip.py\", line 94, in monkeypatch_for_cert\n",
            "    from pip._internal.commands.install import InstallCommand\n",
            "  File \"<frozen zipimport>\", line 259, in load_module\n",
            "  File \"/tmp/tmpwlppkod9/pip.zip/pip/_internal/commands/__init__.py\", line 9, in <module>\n",
            "  File \"<frozen zipimport>\", line 259, in load_module\n",
            "  File \"/tmp/tmpwlppkod9/pip.zip/pip/_internal/cli/base_command.py\", line 15, in <module>\n",
            "  File \"<frozen zipimport>\", line 259, in load_module\n",
            "  File \"/tmp/tmpwlppkod9/pip.zip/pip/_internal/cli/cmdoptions.py\", line 24, in <module>\n",
            "  File \"<frozen zipimport>\", line 259, in load_module\n",
            "  File \"/tmp/tmpwlppkod9/pip.zip/pip/_internal/cli/parser.py\", line 12, in <module>\n",
            "  File \"<frozen zipimport>\", line 259, in load_module\n",
            "  File \"/tmp/tmpwlppkod9/pip.zip/pip/_internal/configuration.py\", line 26, in <module>\n",
            "  File \"<frozen zipimport>\", line 259, in load_module\n",
            "  File \"/tmp/tmpwlppkod9/pip.zip/pip/_internal/utils/logging.py\", line 29, in <module>\n",
            "  File \"<frozen zipimport>\", line 259, in load_module\n",
            "  File \"/tmp/tmpwlppkod9/pip.zip/pip/_internal/utils/misc.py\", line 41, in <module>\n",
            "  File \"<frozen zipimport>\", line 259, in load_module\n",
            "  File \"/tmp/tmpwlppkod9/pip.zip/pip/_internal/locations/__init__.py\", line 66, in <module>\n",
            "  File \"<frozen zipimport>\", line 259, in load_module\n",
            "  File \"/tmp/tmpwlppkod9/pip.zip/pip/_internal/locations/_distutils.py\", line 20, in <module>\n",
            "ModuleNotFoundError: No module named 'distutils.cmd'\n"
          ]
        }
      ],
      "source": [
        "!sudo apt-get update -y\n",
        "!sudo apt-get install python3.8\n",
        "!curl https://bootstrap.pypa.io/get-pip.py -o get-pip.py\n",
        "!python3.8 get-pip.py"
      ]
    },
    {
      "cell_type": "markdown",
      "source": [
        "## Step 4: Clone and install your code\n",
        "First we need to set some environment variables. Get your github API token and MLE repo username and put them into the below variables."
      ],
      "metadata": {
        "id": "guhMlPoey3zE"
      }
    },
    {
      "cell_type": "code",
      "source": [
        "%env TOKEN=peterfschade\n",
        "%env USER=peterfschade"
      ],
      "metadata": {
        "id": "wmmAQK12zJJP",
        "colab": {
          "base_uri": "https://localhost:8080/"
        },
        "outputId": "0c17e8ae-2fe1-47fc-f29c-5ef3bec41a9c"
      },
      "execution_count": 4,
      "outputs": [
        {
          "output_type": "stream",
          "name": "stdout",
          "text": [
            "env: TOKEN=peterfschade\n",
            "env: USER=peterfschade\n"
          ]
        }
      ]
    },
    {
      "cell_type": "markdown",
      "source": [
        "Run the below code. Editing should not be necessary."
      ],
      "metadata": {
        "id": "-JZt2xZwzS2b"
      }
    },
    {
      "cell_type": "code",
      "source": [
        "TOKEN = %env TOKEN\n",
        "USER = %env USER\n",
        "%env DIR=mod3-$USER\n",
        "DIR = %env DIR\n",
        "\n",
        "!echo https://github.com/Cornell-Tech-ML/$DIR\n",
        "\n",
        "!git clone -b master --single-branch https://github.com/Cornell-Tech-ML/$DIR\n",
        "!cd $DIR; pip3.8 install -r requirements.txt; pip3.8 install -r requirements.extra.txt; pip3.8 install ."
      ],
      "metadata": {
        "id": "ZYb6KtYFzJjD",
        "colab": {
          "base_uri": "https://localhost:8080/"
        },
        "outputId": "f86dac4d-d18e-4126-c711-8be44e3e4617"
      },
      "execution_count": 7,
      "outputs": [
        {
          "output_type": "stream",
          "name": "stdout",
          "text": [
            "env: DIR=mod3-peterfschade\n",
            "https://github.com/Cornell-Tech-ML/mod3-peterfschade\n",
            "Cloning into 'mod3-peterfschade'...\n",
            "remote: Enumerating objects: 60, done.\u001b[K\n",
            "remote: Counting objects: 100% (48/48), done.\u001b[K\n",
            "remote: Compressing objects: 100% (47/47), done.\u001b[K\n",
            "remote: Total 60 (delta 5), reused 1 (delta 1), pack-reused 12 (from 1)\u001b[K\n",
            "Receiving objects: 100% (60/60), 48.92 KiB | 834.00 KiB/s, done.\n",
            "Resolving deltas: 100% (5/5), done.\n",
            "/bin/bash: line 1: pip3.8: command not found\n",
            "/bin/bash: line 1: pip3.8: command not found\n",
            "/bin/bash: line 1: pip3.8: command not found\n"
          ]
        }
      ]
    },
    {
      "cell_type": "markdown",
      "source": [
        "If you update your code, you can re-pull the repo by running this cell."
      ],
      "metadata": {
        "id": "E2xn5AhUzaW_"
      }
    },
    {
      "cell_type": "code",
      "source": [
        "!cd $DIR; git pull origin master; pip3.8 install --force-reinstall --no-cache-dir ."
      ],
      "metadata": {
        "id": "GywpmTnozf26"
      },
      "execution_count": null,
      "outputs": []
    },
    {
      "cell_type": "markdown",
      "source": [
        "## Step 5: Run the training command"
      ],
      "metadata": {
        "id": "qufLzTGmzs1K"
      }
    },
    {
      "cell_type": "code",
      "source": [
        "!cd $DIR; PYTHONPATH=/content/$DIR python3.8 project/run_fast_tensor.py --BACKEND gpu --HIDDEN 100 --DATASET split --RATE 0.05"
      ],
      "metadata": {
        "id": "FY8Q4MqEzvGW"
      },
      "execution_count": null,
      "outputs": []
    }
  ]
}